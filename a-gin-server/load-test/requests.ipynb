{
 "cells": [
  {
   "cell_type": "code",
   "execution_count": 1,
   "id": "a1182a29",
   "metadata": {},
   "outputs": [],
   "source": [
    "import requests\n",
    "from concurrent.futures import ThreadPoolExecutor\n",
    "\n",
    "URL = \"http://localhost:8001/index\"  # Update with your endpoint\n",
    "TOTAL_REQUESTS = 10000  # Number of requests to send\n",
    "\n",
    "def send_request():\n",
    "    response = requests.get(URL)\n",
    "    # Optionally, handle the response\n",
    "\n",
    "with ThreadPoolExecutor(max_workers=100) as executor:\n",
    "    futures = [executor.submit(send_request) for _ in range(TOTAL_REQUESTS)]\n",
    "\n",
    "for future in futures:\n",
    "    future.result()\n"
   ]
  },
  {
   "cell_type": "code",
   "execution_count": null,
   "id": "8b862a9d",
   "metadata": {},
   "outputs": [],
   "source": []
  }
 ],
 "metadata": {
  "kernelspec": {
   "display_name": "Python 3 (ipykernel)",
   "language": "python",
   "name": "python3"
  },
  "language_info": {
   "codemirror_mode": {
    "name": "ipython",
    "version": 3
   },
   "file_extension": ".py",
   "mimetype": "text/x-python",
   "name": "python",
   "nbconvert_exporter": "python",
   "pygments_lexer": "ipython3",
   "version": "3.9.7"
  }
 },
 "nbformat": 4,
 "nbformat_minor": 5
}
